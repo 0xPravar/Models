{
 "cells": [
  {
   "cell_type": "markdown",
   "id": "b0056e4b",
   "metadata": {},
   "source": [
    "# Constant Product AMM modeling"
   ]
  },
  {
   "cell_type": "code",
   "execution_count": 11,
   "id": "5b1cc9ec",
   "metadata": {},
   "outputs": [],
   "source": [
    "import copy"
   ]
  },
  {
   "cell_type": "code",
   "execution_count": 94,
   "id": "f10b217f",
   "metadata": {},
   "outputs": [],
   "source": [
    "# initial state\n",
    "\n",
    "genesis = {\n",
    "    \"AMM\":{\"r1\":100,\"r2\":100,\"s\":100,\"fee\":0.00},\n",
    "    \"Trader\":{\"r1\":100,\"r2\":100,\"s\":0},\n",
    "    \"LP\":{\"r1\":50,\"r2\":50,\"s\":100}\n",
    "    }"
   ]
  },
  {
   "cell_type": "code",
   "execution_count": 35,
   "id": "141b5a6c",
   "metadata": {},
   "outputs": [
    {
     "data": {
      "text/plain": [
       "100"
      ]
     },
     "execution_count": 35,
     "metadata": {},
     "output_type": "execute_result"
    }
   ],
   "source": [
    "genesis[\"AMM\"][\"r1\"]"
   ]
  },
  {
   "cell_type": "code",
   "execution_count": 8,
   "id": "2f2cd229",
   "metadata": {},
   "outputs": [],
   "source": [
    "# Function to trade Asset 1 and receive Asset2\n",
    "\n",
    "def swapToAsset2(state,inputs):\n",
    "    agent = inputs[0]\n",
    "    dA1 = inputs[1]\n",
    "    feeFactor = (1-state[\"AMM\"][\"fee\"])\n",
    "    dA2 = state[\"AMM\"][\"r2\"]/(state[\"AMM\"][\"r1\"]+dA1*feeFactor)*dA1*feeFactor\n",
    "    if dA1>0 and state[agent][\"r1\"]-dA1 >= 0 :\n",
    "        state[\"AMM\"][\"r1\"]+=dA1\n",
    "        state[agent][\"r1\"]-=dA1\n",
    "        state[\"AMM\"][\"r2\"]-=dA2\n",
    "        state[agent][\"r2\"]+=dA2"
   ]
  },
  {
   "cell_type": "code",
   "execution_count": 20,
   "id": "3c70c434",
   "metadata": {},
   "outputs": [],
   "source": [
    "# Function to trade Asset 2 and receive Asset1\n",
    "\n",
    "def swapToAsset1(state,inputs):\n",
    "    agent = inputs[0]\n",
    "    dA2 = inputs[1]\n",
    "    feeFactor = (1-state[\"AMM\"][\"fee\"])\n",
    "    dA1 = state[\"AMM\"][\"r1\"]/(state[\"AMM\"][\"r2\"]+dA2*feeFactor)*dA2*feeFactor\n",
    "    if dA2>0 and state[agent][\"r2\"]-dA2 >= 0 :\n",
    "        state[\"AMM\"][\"r2\"]+=dA2\n",
    "        state[agent][\"r2\"]-=dA2\n",
    "        state[\"AMM\"][\"r1\"]-=dA1\n",
    "        state[agent][\"r1\"]+=dA1 "
   ]
  },
  {
   "cell_type": "code",
   "execution_count": 28,
   "id": "72c20976",
   "metadata": {},
   "outputs": [],
   "source": [
    "# Liquidity Insertion\n",
    "\n",
    "def addLiquidity(state,inputs):\n",
    "    agent = inputs[0]\n",
    "    R1 = state[\"AMM\"][\"r1\"]\n",
    "    R2 =state[\"AMM\"][\"r2\"]\n",
    "    S = state[\"AMM\"][\"s\"]\n",
    "    dA1 = min(inputs[1],R1/R2*inputs[2])\n",
    "    dA2 = min(inputs[2],R2/R1*inputs[1])\n",
    "    if (dA1 <= state[agent][\"r1\"] and dA2 <= state[agent][\"r2\"]) and (dA1 > 0 and dA2 > 0):\n",
    "        state[agent][\"r1\"]-=dA1\n",
    "        state[agent][\"r2\"]-=dA2\n",
    "        state[\"AMM\"][\"r1\"]+=dA1\n",
    "        state[\"AMM\"][\"r2\"]+=dA2\n",
    "        dS = min(dA1/R1, dA2/R2) * S\n",
    "        state[\"AMM\"][\"s\"] += dS\n",
    "        state[agent][\"s\"]+=dS"
   ]
  },
  {
   "cell_type": "code",
   "execution_count": 30,
   "id": "5800a152",
   "metadata": {},
   "outputs": [],
   "source": [
    "# Liquidity Removal\n",
    "\n",
    "def removeLiquidity(state,inputs):\n",
    "    dS = inputs[1]\n",
    "    agent = inputs[0]\n",
    "    if dS > 0 and state[agent][\"s\"]-dS>=0 and state[\"AMM\"][\"s\"]-dS>=0:\n",
    "        DR = (1-dS/state[\"AMM\"][\"s\"])\n",
    "        R1=state[\"AMM\"][\"r1\"]\n",
    "        R2=state[\"AMM\"][\"r2\"]\n",
    "        state[agent][\"s\"]-=dS\n",
    "        state[\"AMM\"][\"r1\"]=R1*DR\n",
    "        state[\"AMM\"][\"r2\"]=R2*DR\n",
    "        state[agent][\"r1\"]+=R1-state[\"AMM\"][\"r1\"]\n",
    "        state[agent][\"r2\"]+=R2-state[\"AMM\"][\"r2\"]\n",
    "        state[\"AMM\"][\"s\"]-=dS"
   ]
  },
  {
   "cell_type": "code",
   "execution_count": 52,
   "id": "a7efa38f",
   "metadata": {},
   "outputs": [
    {
     "data": {
      "text/plain": [
       "({'AMM': {'r1': 110, 'r2': 110, 's': 110.0, 'fee': 0.0},\n",
       "  'Trader': {'r1': 100, 'r2': 100, 's': 0},\n",
       "  'LP': {'r1': 40, 'r2': 40, 's': 110.0}},\n",
       " {'AMM': {'r1': 90.0, 'r2': 90.0, 's': 90.0, 'fee': 0.0},\n",
       "  'Trader': {'r1': 100, 'r2': 100, 's': 0},\n",
       "  'LP': {'r1': 60.0, 'r2': 60.0, 's': 90.0}})"
      ]
     },
     "execution_count": 52,
     "metadata": {},
     "output_type": "execute_result"
    }
   ],
   "source": [
    "# Testing the model above\n",
    "\n",
    "# swapToAsset2(genesis,[\"Trader\",10])\n",
    "\n",
    "# genesis\n",
    "\n",
    "addLiquidity(genesis,[\"LP\", 10, 10])\n",
    "\n",
    "B = copy.deepcopy(genesis)\n",
    "\n",
    "removeLiquidity(genesis,[\"LP\", 20])\n",
    "\n",
    "C = copy.deepcopy(genesis)\n",
    "\n",
    "B, C\n"
   ]
  },
  {
   "cell_type": "code",
   "execution_count": 21,
   "id": "eba5aea2",
   "metadata": {},
   "outputs": [
    {
     "data": {
      "text/plain": [
       "{'AMM': {'r1': 99.99999999999999, 'r2': 100.0, 's': 100, 'fee': 0.0},\n",
       " 'Trader': {'r1': 100.00000000000001, 'r2': 100.0, 's': 0},\n",
       " 'LP': {'r1': 0, 'r2': 0, 's': 100}}"
      ]
     },
     "execution_count": 21,
     "metadata": {},
     "output_type": "execute_result"
    }
   ],
   "source": [
    "# AMM loses money due to rounding in reverting the state back\n",
    "\n",
    "swapToAsset1(genesis,[\"Trader\",9.0909090909091])\n",
    "\n",
    "genesis"
   ]
  },
  {
   "cell_type": "code",
   "execution_count": 53,
   "id": "7b744c98",
   "metadata": {},
   "outputs": [],
   "source": [
    "# Nice print function that limits the display to 03 decimal points\n",
    "\n",
    "def nice_print(self):\n",
    "    if type(self)==float:\n",
    "        return  round(self,3)\n",
    "    if type(self)==int:\n",
    "        return  self\n",
    "    if type(self)==list:\n",
    "        return  list(map(lambda l: print(l),self))\n",
    "    if type(self)==dict:\n",
    "        return  dict(map(lambda kv: (kv[0], print(kv[1])),self.items()))"
   ]
  },
  {
   "cell_type": "code",
   "execution_count": 54,
   "id": "42886b90",
   "metadata": {},
   "outputs": [],
   "source": [
    "actionList = [\n",
    "        [ removeLiquidity , [  \"LP\" , 5 ]],\n",
    "        [ removeLiquidity , [  \"LP\" , 5 ]],\n",
    "        [ removeLiquidity , [  \"LP\" , 5 ]]]"
   ]
  },
  {
   "cell_type": "code",
   "execution_count": 55,
   "id": "7550cc01",
   "metadata": {},
   "outputs": [],
   "source": [
    "def evolve(state, actionStack):\n",
    "    history = [copy.deepcopy(state)]\n",
    "    for action in actionStack:\n",
    "        action[0](state,action[1])\n",
    "        history.append(copy.deepcopy(state))\n",
    "    return history"
   ]
  },
  {
   "cell_type": "code",
   "execution_count": 70,
   "id": "2650cb3f",
   "metadata": {},
   "outputs": [
    {
     "data": {
      "text/plain": [
       "[{'AMM': {'r1': 100, 'r2': 100, 's': 100, 'fee': 0.0},\n",
       "  'Trader': {'r1': 100, 'r2': 100, 's': 0},\n",
       "  'LP': {'r1': 50, 'r2': 50, 's': 100}},\n",
       " {'AMM': {'r1': 150, 'r2': 66.66666666666667, 's': 100, 'fee': 0.0},\n",
       "  'Trader': {'r1': 50, 'r2': 133.33333333333331, 's': 0},\n",
       "  'LP': {'r1': 50, 'r2': 50, 's': 100}},\n",
       " {'AMM': {'r1': 109.0909090909091,\n",
       "   'r2': 91.66666666666667,\n",
       "   's': 100,\n",
       "   'fee': 0.0},\n",
       "  'Trader': {'r1': 90.9090909090909, 'r2': 108.33333333333331, 's': 0},\n",
       "  'LP': {'r1': 50, 'r2': 50, 's': 100}}]"
      ]
     },
     "execution_count": 70,
     "metadata": {},
     "output_type": "execute_result"
    }
   ],
   "source": [
    "# testing evolve function. 02 consecutive trades\n",
    "\n",
    "genesis = {\n",
    "    \"AMM\":{\"r1\":100,\"r2\":100,\"s\":100,\"fee\":0.00},\n",
    "    \"Trader\":{\"r1\":100,\"r2\":100,\"s\":0},\n",
    "    \"LP\":{\"r1\":50,\"r2\":50,\"s\":100}\n",
    "    }\n",
    "\n",
    "actionList = [\n",
    "    [swapToAsset2, [\"Trader\", 50]],\n",
    "    [swapToAsset1, [\"Trader\", 25]]\n",
    "]\n",
    "\n",
    "states = evolve(genesis, actionList)\n",
    "\n",
    "states\n",
    "# Trader gets less asset2 in first trade -> slippage\n",
    "# Trader gets more asset1 in second trade as price changed"
   ]
  },
  {
   "cell_type": "code",
   "execution_count": 81,
   "id": "b860c679",
   "metadata": {},
   "outputs": [],
   "source": [
    "#  function to check if all inputs are proper\n",
    "def checkGenesisBlock(state):\n",
    "   \n",
    "#    ask Rohan"
   ]
  },
  {
   "cell_type": "code",
   "execution_count": null,
   "id": "adbeb9d7",
   "metadata": {},
   "outputs": [],
   "source": [
    "# Testing if input check is working\n",
    "\n",
    "checkGenesisBlock(genesis)"
   ]
  },
  {
   "cell_type": "code",
   "execution_count": 84,
   "id": "c41ec557",
   "metadata": {},
   "outputs": [],
   "source": [
    "# function to update fee charged by AMM\n",
    "def updatePoolFees(fee):\n",
    "    genesis[\"AMM\"][\"fee\"] = fee\n",
    "    "
   ]
  },
  {
   "cell_type": "code",
   "execution_count": 95,
   "id": "0a3a509f",
   "metadata": {},
   "outputs": [
    {
     "data": {
      "text/plain": [
       "0.05"
      ]
     },
     "execution_count": 95,
     "metadata": {},
     "output_type": "execute_result"
    }
   ],
   "source": [
    "updatePoolFees(0.05)\n",
    "\n",
    "genesis[\"AMM\"][\"fee\"]"
   ]
  },
  {
   "cell_type": "code",
   "execution_count": 92,
   "id": "16897547",
   "metadata": {},
   "outputs": [],
   "source": [
    "# swapping asset1 to 2 with input in percentage of holding\n",
    "def swapToAsset2_pct(state, inputs):\n",
    "    input = inputs\n",
    "    input[1] = state[inputs[0]][\"r1\"]*inputs[1]/100\n",
    "    swapToAsset2(state,input)"
   ]
  },
  {
   "cell_type": "code",
   "execution_count": 96,
   "id": "878a3f7a",
   "metadata": {},
   "outputs": [
    {
     "data": {
      "text/plain": [
       "{'AMM': {'r1': 120.0, 'r2': 84.03361344537815, 's': 100, 'fee': 0.05},\n",
       " 'Trader': {'r1': 80.0, 'r2': 115.96638655462185, 's': 0},\n",
       " 'LP': {'r1': 50, 'r2': 50, 's': 100}}"
      ]
     },
     "execution_count": 96,
     "metadata": {},
     "output_type": "execute_result"
    }
   ],
   "source": [
    "# testing percentage input for trade\n",
    "swapToAsset2_pct(genesis, [\"Trader\", 20])\n",
    "\n",
    "genesis\n"
   ]
  },
  {
   "cell_type": "code",
   "execution_count": 113,
   "id": "ffc468cc",
   "metadata": {},
   "outputs": [],
   "source": [
    "# discuss with Rohan\n",
    "\n",
    "def fiatPrintHolding(state, agent, prices):\n",
    "    valueOfToken1 = state[agent][\"r1\"]*prices[\"r1\"]\n",
    "    valueOfToken2 = state[agent][\"r2\"]*prices[\"r2\"]\n",
    "    holdingValue = valueOfToken1+valueOfToken2\n",
    "    print(str(nice_print(holdingValue))+\" \"+ prices[\"currency\"])\n",
    "    "
   ]
  },
  {
   "cell_type": "code",
   "execution_count": 114,
   "id": "9bf5131b",
   "metadata": {
    "scrolled": true
   },
   "outputs": [
    {
     "name": "stdout",
     "output_type": "stream",
     "text": [
      "747.899 USD\n"
     ]
    }
   ],
   "source": [
    "price = {\n",
    "    \"r1\": 5,\n",
    "    \"r2\": 3,\n",
    "    \"currency\": \"USD\"\n",
    "}\n",
    "\n",
    "fiatPrintHolding(genesis, \"Trader\", price)"
   ]
  },
  {
   "cell_type": "markdown",
   "id": "a205907f",
   "metadata": {},
   "source": [
    "### VERIFYING THE DIGITAL TWIN"
   ]
  },
  {
   "cell_type": "code",
   "execution_count": 116,
   "id": "08e18879",
   "metadata": {},
   "outputs": [],
   "source": [
    "# calculate invariant value for a state\n",
    "def invariant(state):\n",
    "    return state[\"AMM\"][\"r1\"] * state[\"AMM\"][\"r2\"]\n",
    "\n",
    "#calculate total of asset1 held by AMM, trader & LP. This should remain constant \n",
    "def asset1(state):\n",
    "    return state[\"AMM\"][\"r1\"]+state[\"Trader\"][\"r1\"]+state[\"LP\"][\"r1\"]\n",
    "\n",
    "#calculate total of asset2 held by AMM, trader & LP. This should remain constant \n",
    "def asset2(state):\n",
    "    return state[\"AMM\"][\"r2\"]+state[\"Trader\"][\"r2\"]+state[\"LP\"][\"r2\"]"
   ]
  },
  {
   "cell_type": "code",
   "execution_count": 119,
   "id": "386005ff",
   "metadata": {},
   "outputs": [
    {
     "data": {
      "text/plain": [
       "True"
      ]
     },
     "execution_count": 119,
     "metadata": {},
     "output_type": "execute_result"
    }
   ],
   "source": [
    "# testing if the invariant remains constant\n",
    "\n",
    "genesis = {\n",
    "    \"AMM\":{\"r1\":100,\"r2\":100,\"s\":100,\"fee\":0.00},\n",
    "    \"Trader\":{\"r1\":100,\"r2\":100,\"s\":0},\n",
    "    \"LP\":{\"r1\":50,\"r2\":50,\"s\":100}\n",
    "}\n",
    "\n",
    "state = copy.deepcopy(genesis)\n",
    "\n",
    "swapToAsset2(state, [\"Trader\", 9])\n",
    "\n",
    "invariant(genesis)==invariant(state)"
   ]
  },
  {
   "cell_type": "code",
   "execution_count": 122,
   "id": "62d5c6a3",
   "metadata": {},
   "outputs": [
    {
     "data": {
      "text/plain": [
       "False"
      ]
     },
     "execution_count": 122,
     "metadata": {},
     "output_type": "execute_result"
    }
   ],
   "source": [
    "# testing that invariant changes if we have fees\n",
    "\n",
    "state = copy.deepcopy(genesis)\n",
    "state[\"AMM\"][\"fee\"] = 0.01\n",
    "\n",
    "swapToAsset1(state, [\"Trader\", 15])\n",
    "\n",
    "invariant(genesis)==invariant(state)"
   ]
  },
  {
   "cell_type": "code",
   "execution_count": 124,
   "id": "a4d97ba2",
   "metadata": {},
   "outputs": [
    {
     "data": {
      "text/plain": [
       "True"
      ]
     },
     "execution_count": 124,
     "metadata": {},
     "output_type": "execute_result"
    }
   ],
   "source": [
    "# total number of tokens should remain constant\n",
    "\n",
    "genesis = {\n",
    "    \"AMM\":{\"r1\":100,\"r2\":100,\"s\":100,\"fee\":0.00},\n",
    "    \"Trader\":{\"r1\":100,\"r2\":100,\"s\":0},\n",
    "    \"LP\":{\"r1\":50,\"r2\":50,\"s\":100}\n",
    "}\n",
    "\n",
    "state = copy.deepcopy(genesis)\n",
    "\n",
    "swapToAsset1(state, [\"Trader\", 22])\n",
    "\n",
    "asset1(state) == asset1(genesis) and asset2(state) == asset2(genesis)"
   ]
  },
  {
   "cell_type": "code",
   "execution_count": 128,
   "id": "f09957c8",
   "metadata": {},
   "outputs": [
    {
     "data": {
      "text/plain": [
       "False"
      ]
     },
     "execution_count": 128,
     "metadata": {},
     "output_type": "execute_result"
    }
   ],
   "source": [
    "# testing with false input state. r2 manually reduced by 50\n",
    "\n",
    "state = {\n",
    "    \"AMM\":{\"r1\":100,\"r2\":100,\"s\":100,\"fee\":0.00},\n",
    "    \"Trader\":{\"r1\":100,\"r2\":50,\"s\":0},\n",
    "    \"LP\":{\"r1\":50,\"r2\":50,\"s\":100}\n",
    "}\n",
    "\n",
    "asset1(state) == asset1(genesis) and asset2(state) == asset2(genesis)"
   ]
  },
  {
   "cell_type": "code",
   "execution_count": 136,
   "id": "ca7690c0",
   "metadata": {},
   "outputs": [
    {
     "data": {
      "text/plain": [
       "True"
      ]
     },
     "execution_count": 136,
     "metadata": {},
     "output_type": "execute_result"
    }
   ],
   "source": [
    "# state reverses back to orginal as trader reverses the first swap\n",
    "\n",
    "genesis = {\n",
    "    \"AMM\":{\"r1\":100,\"r2\":100,\"s\":100,\"fee\":0.00},\n",
    "    \"Trader\":{\"r1\":100,\"r2\":100,\"s\":0},\n",
    "    \"LP\":{\"r1\":50,\"r2\":50,\"s\":100}\n",
    "}\n",
    "\n",
    "state = copy.deepcopy(genesis)\n",
    "\n",
    "swapToAsset1(state, [\"Trader\", 22])\n",
    "\n",
    "gained = state[\"Trader\"][\"r1\"] - genesis[\"Trader\"][\"r1\"]\n",
    "\n",
    "swapToAsset2(state,[\"Trader\",gained])\n",
    "\n",
    "genesis == state"
   ]
  },
  {
   "cell_type": "code",
   "execution_count": 138,
   "id": "86cfc44d",
   "metadata": {
    "scrolled": true
   },
   "outputs": [
    {
     "data": {
      "text/plain": [
       "True"
      ]
     },
     "execution_count": 138,
     "metadata": {},
     "output_type": "execute_result"
    }
   ],
   "source": [
    "# state reverses back to orginal as liquidity is added and then removed\n",
    "\n",
    "genesis = {\n",
    "    \"AMM\":{\"r1\":100,\"r2\":100,\"s\":100,\"fee\":0.00},\n",
    "    \"Trader\":{\"r1\":100,\"r2\":100,\"s\":0},\n",
    "    \"LP\":{\"r1\":50,\"r2\":50,\"s\":100}\n",
    "}\n",
    "\n",
    "state = copy.deepcopy(genesis)\n",
    "\n",
    "addLiquidity(state, [\"LP\", 20, 20])\n",
    "\n",
    "removeLiquidity(state, [\"LP\", 20])\n",
    "\n",
    "genesis == state"
   ]
  },
  {
   "cell_type": "code",
   "execution_count": 145,
   "id": "67b0c6cb",
   "metadata": {},
   "outputs": [
    {
     "name": "stdout",
     "output_type": "stream",
     "text": [
      "Collecting matplotlib\n",
      "  Downloading matplotlib-3.6.2-cp39-cp39-macosx_11_0_arm64.whl (7.2 MB)\n",
      "\u001b[2K     \u001b[90m━━━━━━━━━━━━━━━━━━━━━━━━━━━━━━━━━━━━━━━━\u001b[0m \u001b[32m7.2/7.2 MB\u001b[0m \u001b[31m541.6 kB/s\u001b[0m eta \u001b[36m0:00:00\u001b[0m00:01\u001b[0m00:01\u001b[0m\n",
      "\u001b[?25hCollecting pillow>=6.2.0\n",
      "  Downloading Pillow-9.3.0-cp39-cp39-macosx_11_0_arm64.whl (2.9 MB)\n",
      "\u001b[2K     \u001b[90m━━━━━━━━━━━━━━━━━━━━━━━━━━━━━━━━━━━━━━━━\u001b[0m \u001b[32m2.9/2.9 MB\u001b[0m \u001b[31m385.5 kB/s\u001b[0m eta \u001b[36m0:00:00\u001b[0m00:01\u001b[0m00:01\u001b[0m\n",
      "\u001b[?25hCollecting numpy>=1.19\n",
      "  Downloading numpy-1.23.4-cp39-cp39-macosx_11_0_arm64.whl (13.4 MB)\n",
      "\u001b[2K     \u001b[90m━━━━━━━━━━━━━━━━━━━━━━━━━━━━━━━━━━━━━━━\u001b[0m \u001b[32m13.4/13.4 MB\u001b[0m \u001b[31m383.1 kB/s\u001b[0m eta \u001b[36m0:00:00\u001b[0m00:01\u001b[0m00:01\u001b[0m\n",
      "\u001b[?25hRequirement already satisfied: python-dateutil>=2.7 in /Users/pravar/anaconda3/envs/TE/lib/python3.9/site-packages (from matplotlib) (2.8.2)\n",
      "Collecting cycler>=0.10\n",
      "  Using cached cycler-0.11.0-py3-none-any.whl (6.4 kB)\n",
      "Requirement already satisfied: packaging>=20.0 in /Users/pravar/anaconda3/envs/TE/lib/python3.9/site-packages (from matplotlib) (21.3)\n",
      "Collecting kiwisolver>=1.0.1\n",
      "  Using cached kiwisolver-1.4.4-cp39-cp39-macosx_11_0_arm64.whl (63 kB)\n",
      "Requirement already satisfied: pyparsing>=2.2.1 in /Users/pravar/anaconda3/envs/TE/lib/python3.9/site-packages (from matplotlib) (3.0.9)\n",
      "Collecting contourpy>=1.0.1\n",
      "  Downloading contourpy-1.0.6-cp39-cp39-macosx_11_0_arm64.whl (226 kB)\n",
      "\u001b[2K     \u001b[90m━━━━━━━━━━━━━━━━━━━━━━━━━━━━━━━━━━━━━\u001b[0m \u001b[32m226.0/226.0 kB\u001b[0m \u001b[31m392.4 kB/s\u001b[0m eta \u001b[36m0:00:00\u001b[0m00:01\u001b[0m00:01\u001b[0m\n",
      "\u001b[?25hCollecting fonttools>=4.22.0\n",
      "  Downloading fonttools-4.38.0-py3-none-any.whl (965 kB)\n",
      "\u001b[2K     \u001b[90m━━━━━━━━━━━━━━━━━━━━━━━━━━━━━━━━━━━━━\u001b[0m \u001b[32m965.4/965.4 kB\u001b[0m \u001b[31m202.7 kB/s\u001b[0m eta \u001b[36m0:00:00\u001b[0m00:01\u001b[0m00:01\u001b[0m\n",
      "\u001b[?25hRequirement already satisfied: six>=1.5 in /Users/pravar/anaconda3/envs/TE/lib/python3.9/site-packages (from python-dateutil>=2.7->matplotlib) (1.16.0)\n",
      "Installing collected packages: pillow, numpy, kiwisolver, fonttools, cycler, contourpy, matplotlib\n",
      "Successfully installed contourpy-1.0.6 cycler-0.11.0 fonttools-4.38.0 kiwisolver-1.4.4 matplotlib-3.6.2 numpy-1.23.4 pillow-9.3.0\n",
      "Note: you may need to restart the kernel to use updated packages.\n"
     ]
    }
   ],
   "source": [
    "%pip install matplotlib\n",
    "\n",
    "import math\n",
    "import matplotlib.pyplot as plt"
   ]
  },
  {
   "cell_type": "code",
   "execution_count": 153,
   "id": "722e542f",
   "metadata": {},
   "outputs": [
    {
     "data": {
      "text/plain": [
       "Text(0, 0.5, 'Asset 2')"
      ]
     },
     "execution_count": 153,
     "metadata": {},
     "output_type": "execute_result"
    },
    {
     "data": {
      "image/png": "[encoded data removed]",
      "text/plain": [
       "<Figure size 1000x400 with 2 Axes>"
      ]
     },
     "metadata": {},
     "output_type": "display_data"
    }
   ],
   "source": [
    "# multiple swap actions\n",
    "\n",
    "genesis = {\n",
    "    \"AMM\":{\"r1\":99,\"r2\":1,\"s\":math.sqrt(99),\"fee\":0.0},\n",
    "    \"Trader\":{\"r1\":1,\"r2\":99,\"s\":0},\n",
    "    \"LP\":{\"r1\":200,\"r2\":200,\"s\":math.sqrt(99)}\n",
    "    }\n",
    "\n",
    "actionList= [ [swapToAsset1,[\"Trader\",1]] ] * 99\n",
    "\n",
    "history = evolve(genesis, actionList)\n",
    "\n",
    "AMM_r1=[]\n",
    "Trader_r1=[]\n",
    "AMM_r2=[]\n",
    "Trader_r2=[]\n",
    "\n",
    "for s in history:\n",
    "    AMM_r1.append(s[\"AMM\"][\"r1\"])\n",
    "    Trader_r1.append(s[\"Trader\"][\"r1\"])\n",
    "    AMM_r2.append(s[\"AMM\"][\"r2\"])\n",
    "    Trader_r2.append(s[\"Trader\"][\"r2\"])   \n",
    "\n",
    "\n",
    "plt.figure(figsize=(10,4)) \n",
    "    \n",
    "plt.subplot(1, 2, 1) \n",
    "plt.plot(AMM_r1,AMM_r2)\n",
    "plt.title('AMM')\n",
    "plt.xlabel(\"Asset 1\")\n",
    "plt.ylabel(\"Asset 2\")\n",
    "\n",
    "plt.subplot(1, 2, 2)\n",
    "plt.plot(Trader_r1,Trader_r2)\n",
    "plt.title('Trader')\n",
    "plt.xlabel(\"Asset 1\")\n",
    "plt.ylabel(\"Asset 2\")"
   ]
  },
  {
   "cell_type": "code",
   "execution_count": 154,
   "id": "03f3f482",
   "metadata": {},
   "outputs": [
    {
     "data": {
      "text/plain": [
       "Text(0, 0.5, 'Asset 2')"
      ]
     },
     "execution_count": 154,
     "metadata": {},
     "output_type": "execute_result"
    },
    {
     "data": {
      "image/png": "[encoded data removed]",
      "text/plain": [
       "<Figure size 400x400 with 1 Axes>"
      ]
     },
     "metadata": {},
     "output_type": "display_data"
    }
   ],
   "source": [
    "# effect of liquidity insertion\n",
    "\n",
    "actionList.insert(0,[addLiquidity,[\"LP\",100,100]])\n",
    "\n",
    "genesis = {\n",
    "    \"AMM\":{\"r1\":99,\"r2\":1,\"s\":math.sqrt(99),\"fee\":0.0},\n",
    "    \"Trader\":{\"r1\":1,\"r2\":99,\"s\":0},\n",
    "    \"LP\":{\"r1\":200,\"r2\":200,\"s\":math.sqrt(99)}\n",
    "    }\n",
    "\n",
    "history = evolve(genesis, actionList)\n",
    "\n",
    "AMM_2r1=[]\n",
    "Trader_2r1=[]\n",
    "AMM_2r2=[]\n",
    "Trader_2r2=[]\n",
    "\n",
    "for s in history:\n",
    "    AMM_2r1.append(s[\"AMM\"][\"r1\"])\n",
    "    Trader_2r1.append(s[\"Trader\"][\"r1\"])\n",
    "    AMM_2r2.append(s[\"AMM\"][\"r2\"])\n",
    "    Trader_2r2.append(s[\"Trader\"][\"r2\"])   \n",
    "    \n",
    "plt.figure(figsize=(4,4)) \n",
    "plt.plot(AMM_r1,AMM_r2)\n",
    "plt.plot(AMM_2r1,AMM_2r2)\n",
    "plt.title('AMM')\n",
    "plt.xlim([0, 99])\n",
    "plt.ylim([0, 99])\n",
    "plt.xlabel(\"Asset 1\")\n",
    "plt.ylabel(\"Asset 2\")"
   ]
  },
  {
   "cell_type": "code",
   "execution_count": 164,
   "id": "02fbcbff",
   "metadata": {},
   "outputs": [],
   "source": [
    "\n",
    "\n",
    "def WF():\n",
    "    input = range(1, 1001)\n",
    "    output = 0;\n",
    "    for x in input:\n",
    "        if(x % 2 == 0):\n",
    "            output+= math.ceil(math.sqrt(x))\n",
    "        else:\n",
    "            output+= x*x\n",
    "    return output\n",
    "        \n",
    "            "
   ]
  },
  {
   "cell_type": "code",
   "execution_count": 165,
   "id": "8203af7a",
   "metadata": {},
   "outputs": [],
   "source": [
    "result = WF()"
   ]
  },
  {
   "cell_type": "code",
   "execution_count": 166,
   "id": "bd805f28",
   "metadata": {},
   "outputs": [
    {
     "data": {
      "text/plain": [
       "166677300"
      ]
     },
     "execution_count": 166,
     "metadata": {},
     "output_type": "execute_result"
    }
   ],
   "source": [
    "result"
   ]
  },
  {
   "cell_type": "code",
   "execution_count": 174,
   "id": "f1a039bd",
   "metadata": {},
   "outputs": [
    {
     "data": {
      "text/plain": [
       "['LP', 10]"
      ]
     },
     "execution_count": 174,
     "metadata": {},
     "output_type": "execute_result"
    }
   ],
   "source": [
    "actionList = [ \n",
    "    [ removeLiquidity , [ \"LP\" , 5 ]],\n",
    "    [ removeLiquidity , [ \"LP\" , 10 ]],\n",
    "    [ removeLiquidity , [ \"LP\" , 5 ]]\n",
    "]\n",
    "\n",
    "\n",
    "\n",
    "actionList[1][1]\n",
    "              "
   ]
  },
  {
   "cell_type": "code",
   "execution_count": 181,
   "id": "a55cbc7e",
   "metadata": {},
   "outputs": [],
   "source": [
    "def swapToAssetB(state,inputs):\n",
    "    agent = inputs[0]\n",
    "    dA1 = inputs[1]\n",
    "    feeFactor = (1-state[\"AMM\"][\"fee\"])\n",
    "    dA2 = state[\"AMM\"][\"r2\"]/(state[\"AMM\"][\"r1\"]+dA1*feeFactor)*dA1*feeFactor\n",
    "    state[\"AMM\"][\"r1\"]+=dA1\n",
    "    state[agent][\"r1\"]-=dA1\n",
    "    state[\"AMM\"][\"r2\"]-=dA2\n",
    "    state[agent][\"r2\"]+=dA2\n",
    "\n",
    "        \n",
    "def swapToAssetA(state,inputs):\n",
    "    agent = inputs[0]\n",
    "    dA2 = inputs[1]\n",
    "    dA1 = dA2\n",
    "    \n",
    "    state[\"AMM\"][\"r2\"]+=dA2\n",
    "    state[agent][\"r2\"]-=dA2\n",
    "    state[\"AMM\"][\"r1\"]-=dA1\n",
    "    state[agent][\"r1\"]+=dA1        "
   ]
  },
  {
   "cell_type": "code",
   "execution_count": 191,
   "id": "f9aace8c",
   "metadata": {},
   "outputs": [
    {
     "data": {
      "text/plain": [
       "{'AMM': {'r1': 400, 'r2': 419.9999912049102, 's': 100, 'fee': 0.0},\n",
       " 'Trader': {'r1': 10000, 'r2': 9980.000008795088, 's': 0},\n",
       " 'LP': {'r1': 50, 'r2': 50, 's': 100}}"
      ]
     },
     "execution_count": 191,
     "metadata": {},
     "output_type": "execute_result"
    }
   ],
   "source": [
    "start = {\n",
    "    \"AMM\":{\"r1\":400,\"r2\":400,\"s\":100,\"fee\":0.00},\n",
    "    \"Trader\":{\"r1\":10000,\"r2\":10000,\"s\":0},\n",
    "    \"LP\":{\"r1\":50,\"r2\":50,\"s\":100}\n",
    "    }\n",
    "\n",
    "# swapToAssetB(start, [\"Trader\", 20])\n",
    "# swapToAssetA(start, [\"Trader\", 20])\n",
    "# swapToAssetB(start, [\"Trader\", 20])\n",
    "# swapToAssetA(start, [\"Trader\", 20])\n",
    "\n",
    "# start\n",
    "\n",
    "actionList = [\n",
    "    [swapToAssetB, [\"Trader\", 20]],\n",
    "    [swapToAssetA, [\"Trader\", 20]]\n",
    "]*300\n",
    "\n",
    "newStates = evolve(start, actionList)\n",
    "\n",
    "newStates[600]"
   ]
  },
  {
   "cell_type": "code",
   "execution_count": null,
   "id": "ddacb804",
   "metadata": {},
   "outputs": [],
   "source": []
  },
  {
   "cell_type": "code",
   "execution_count": null,
   "id": "9b7cc199",
   "metadata": {},
   "outputs": [],
   "source": []
  }
 ],
 "metadata": {
  "kernelspec": {
   "display_name": "Python 3 (ipykernel)",
   "language": "python",
   "name": "python3"
  },
  "language_info": {
   "codemirror_mode": {
    "name": "ipython",
    "version": 3
   },
   "file_extension": ".py",
   "mimetype": "text/x-python",
   "name": "python",
   "nbconvert_exporter": "python",
   "pygments_lexer": "ipython3",
   "version": "3.9.13"
  }
 },
 "nbformat": 4,
 "nbformat_minor": 5
}
